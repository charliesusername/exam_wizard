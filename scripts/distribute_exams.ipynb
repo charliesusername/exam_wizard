{
 "cells": [
  {
   "cell_type": "code",
   "execution_count": 23,
   "metadata": {},
   "outputs": [
    {
     "name": "stdout",
     "output_type": "stream",
     "text": [
      "Message Sent!\n",
      "Message Sent!\n"
     ]
    }
   ],
   "source": [
    "import sys\n",
    "import pandas as pd\n",
    "sys.path.append('..')\n",
    "from examwiz_pkg.examwiz_pkg.gapi_app import grade_book as gb\n",
    "from examwiz_pkg.examwiz_pkg.gapi_app import mailer as ml\n",
    "from examwiz_pkg.examwiz_pkg.gapi_app import reporter as rp\n",
    "from examwiz_pkg.examwiz_pkg.anon_app import anonymizer as an\n",
    "\n",
    "\n",
    "#Hardcoded file paths (change to user input)\n",
    "submissions_path = '../demo/demo files/raw_student_exams'\n",
    "ta_details_path = '../demo/demo files/TA_data.txt'\n",
    "form_link = 'https://docs.google.com/forms/d/e/1FAIpQLSdeOgHuin1UD9vCmjezzF0C7rF5h7nUz9RPqLMblcEBlv8i6g/viewform'\n",
    "\n",
    "# Anonymize exams\n",
    "anon_path, encryption_key = an.make_anon(submissions_path)\n",
    "active_tas = ml.get_ta_emails(ta_details_path)\n",
    "\n",
    "#Divy up workload and send TAs exams to grade\n",
    "workload = []\n",
    "num_exams = len(an.list_files(anon_path))\n",
    "for i in range(len(active_tas)):\n",
    "    exams = an.list_files(anon_path)[(i*num_exams//len(active_tas)):((i+1)*num_exams//len(active_tas))]\n",
    "    workload.append({'ta': active_tas[0][i], 'workload': exams, 'email': active_tas[1][i]})\n",
    "    \n",
    "    em = ml.create_attached_message(\n",
    "        sender='charles.cohen@nycdatascience.com',\n",
    "        to=active_tas[1][i],\n",
    "        subject=f'{active_tas[0][i]}\\'s to grade: R Midterm',\n",
    "        msg=f\"\"\"Hi {active_tas[0][i]},\n",
    "Here are the R Midterm student exams.\n",
    "Please submit your grade to them promptly.\n",
    "Here is the submission form link {form_link}\"\"\",\n",
    "        file_dir = anon_path,\n",
    "        filenames = exams\n",
    "    )\n",
    "    pd.DataFrame(workload).to_csv('./ta_exam_workload.csv')\n",
    "    ml.send_message(em)"
   ]
  },
  {
   "cell_type": "code",
   "execution_count": null,
   "metadata": {},
   "outputs": [],
   "source": []
  }
 ],
 "metadata": {
  "kernelspec": {
   "display_name": "Python 3",
   "language": "python",
   "name": "python3"
  },
  "language_info": {
   "codemirror_mode": {
    "name": "ipython",
    "version": 3
   },
   "file_extension": ".py",
   "mimetype": "text/x-python",
   "name": "python",
   "nbconvert_exporter": "python",
   "pygments_lexer": "ipython3",
   "version": "3.6.4"
  }
 },
 "nbformat": 4,
 "nbformat_minor": 2
}
