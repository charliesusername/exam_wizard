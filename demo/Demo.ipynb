{
 "cells": [
  {
   "cell_type": "code",
   "execution_count": 2,
   "metadata": {},
   "outputs": [],
   "source": [
    "import sys\n",
    "import pandas as pd\n",
    "sys.path.append('..')\n",
    "from examwiz_pkg.examwiz_pkg.gapi_app import grade_book as gb\n",
    "from examwiz_pkg.examwiz_pkg.gapi_app import mailer as ml\n",
    "from examwiz_pkg.examwiz_pkg.gapi_app import reporter as rp\n",
    "from examwiz_pkg.examwiz_pkg.anon_app import anonymizer as an"
   ]
  },
  {
   "cell_type": "markdown",
   "metadata": {},
   "source": [
    "#### 1. Exam is Created\n",
    "Admin writes new exam (or is porting current exam into the system)"
   ]
  },
  {
   "cell_type": "code",
   "execution_count": null,
   "metadata": {},
   "outputs": [],
   "source": [
    "#exam2 = gb.create_grade_book('Python Midterm2', in_domain=True)\n",
    "## Generates new exam that is view only to SupStat Inc users, but can be edited by owner.\n",
    "exam = '1ZuM7K8ygsAhBjlBr2FE3zyilRwJpT34XLId602OuETE'\n",
    "print('New Gradebook created. Access at:', gb.get_link(exam))\n",
    "\n",
    "#Admin links gradebook to a google form and manually structures the questions (needs to be automated)\n",
    "form_link = 'https://docs.google.com/forms/d/e/1FAIpQLSex4HTuoBouCkkN0XrszdDiqzGVOZwocaTdQKd0zhNxot5SHA/viewform?usp=sf_link'"
   ]
  },
  {
   "cell_type": "markdown",
   "metadata": {},
   "source": [
    "#### 2. Exam is administered\n",
    "Cohort students take the exam and provide their solutions to the portal. This is downloadeded from the portal and run through an anonymizer"
   ]
  },
  {
   "cell_type": "code",
   "execution_count": null,
   "metadata": {},
   "outputs": [],
   "source": [
    "gb.fresh_start('demo files')\n",
    "raw_path = 'demo files/raw_student_exams'\n",
    "anon_path, key = an.make_anon(raw_path)"
   ]
  },
  {
   "cell_type": "markdown",
   "metadata": {},
   "source": [
    "#### 3. Send Anonymized Exams to TAs\n",
    "Randomly split the examinations and send the files to the TAs along with the grading form."
   ]
  },
  {
   "cell_type": "code",
   "execution_count": 4,
   "metadata": {},
   "outputs": [],
   "source": [
    "anon_path = 'demo files/anon_student_exams_perm'\n",
    "key = 'demo files/conversion_key_perm.csv'\n",
    "form_link = 'https://docs.google.com/forms/d/e/1FAIpQLSdeOgHuin1UD9vCmjezzF0C7rF5h7nUz9RPqLMblcEBlv8i6g/viewform'\n",
    "exam_id = '1EslwwOrJuor0NyolZTmkQHe6Dc7oN2Ta3TZatuq_Qnc'"
   ]
  },
  {
   "cell_type": "code",
   "execution_count": null,
   "metadata": {},
   "outputs": [],
   "source": [
    "#Find Active TAs\n",
    "names, emails = ml.get_ta_emails('demo files/TA_data.txt')\n",
    "num_tas = len(names)\n",
    "num_exams = len(an.list_files(anon_path))\n",
    "\n",
    "#Email TAs student files and grading form link, save TA workload for future checking\n",
    "register = []\n",
    "for i in range(num_tas):\n",
    "    exams = an.list_files(anon_path)[(i*num_exams//num_tas):((i+1)*num_exams//num_tas)]\n",
    "    register.append({'ta': names[i], 'workload': exams, 'email': emails[i]})\n",
    "    \n",
    "    em = ml.create_attached_message(\n",
    "        sender='charles.cohen@nycdatascience.com',\n",
    "        to=emails[i],\n",
    "        subject=f'{names[i]}\\'s to grade: R Midterm',\n",
    "        msg=f\"\"\"Hi {names[i]},\n",
    "Here are the R Midterm student exams.\n",
    "Please submit your grade to them promptly.\n",
    "Here is the submission form link {form_link}\"\"\",\n",
    "        file_dir = 'demo files/anon_student_exams_perm',\n",
    "        filenames = exams\n",
    "    )\n",
    "    pd.DataFrame(register).to_csv('demo files/ta_workload.csv')\n",
    "\n",
    "    \n",
    "   # ml.send_message(em)"
   ]
  },
  {
   "cell_type": "markdown",
   "metadata": {},
   "source": [
    "#### 4. Check Gradebook at start of day to see who has exams to grade and email them."
   ]
  },
  {
   "cell_type": "code",
   "execution_count": null,
   "metadata": {},
   "outputs": [],
   "source": []
  },
  {
   "cell_type": "code",
   "execution_count": 35,
   "metadata": {},
   "outputs": [
    {
     "data": {
      "text/plain": [
       "[9475, 6376]"
      ]
     },
     "execution_count": 35,
     "metadata": {},
     "output_type": "execute_result"
    }
   ],
   "source": []
  },
  {
   "cell_type": "code",
   "execution_count": 41,
   "metadata": {},
   "outputs": [
    {
     "data": {
      "text/plain": [
       "0          [6003, 2060, 3070]\n",
       "1    [8913, 2170, 3655, 6376]\n",
       "2    [1291, 4260, 3728, 3776]\n",
       "3    [8331, 6197, 9475, 6826]\n",
       "Name: workload, dtype: object"
      ]
     },
     "execution_count": 41,
     "metadata": {},
     "output_type": "execute_result"
    }
   ],
   "source": [
    "miss = [int(i) for i in gb.needs_grading(exam_id, key)]\n",
    "book = gb.read_grade_book(exam_id)\n",
    "\n",
    "i = miss[0]\n",
    "import ast, os\n",
    "import pandas as pd\n",
    "wkld = pd.read_csv('demo files/ta_workload_perm.csv')\n",
    "wkld['workload'] = wkld.apply(lambda l: [os.path.splitext(i)[0] for i in ast.literal_eval(l.workload)], axis=1)\n",
    "wkld['workload']"
   ]
  },
  {
   "cell_type": "markdown",
   "metadata": {},
   "source": [
    "#### 4. Admin audits gradebook (manually)\n",
    "\n",
    "#### 5. Admin flags gradebook for reporting (manually)\n",
    "\n",
    "#### 6. Generates exam reports and emails to students. (automatic)"
   ]
  },
  {
   "cell_type": "code",
   "execution_count": null,
   "metadata": {},
   "outputs": [],
   "source": []
  }
 ],
 "metadata": {
  "kernelspec": {
   "display_name": "Python 3",
   "language": "python",
   "name": "python3"
  },
  "language_info": {
   "codemirror_mode": {
    "name": "ipython",
    "version": 3
   },
   "file_extension": ".py",
   "mimetype": "text/x-python",
   "name": "python",
   "nbconvert_exporter": "python",
   "pygments_lexer": "ipython3",
   "version": "3.6.4"
  }
 },
 "nbformat": 4,
 "nbformat_minor": 2
}
