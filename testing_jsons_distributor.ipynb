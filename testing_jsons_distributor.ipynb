{
 "cells": [
  {
   "cell_type": "code",
   "execution_count": 4,
   "metadata": {},
   "outputs": [],
   "source": [
    "import json\n",
    "from anonymizer.anon_helper import *\n",
    "import pandas as pd\n",
    "import numpy as np\n",
    "import random"
   ]
  },
  {
   "cell_type": "code",
   "execution_count": 9,
   "metadata": {},
   "outputs": [
    {
     "name": "stdout",
     "output_type": "stream",
     "text": [
      "\u001b[34m.\u001b[m\u001b[m                  \u001b[34m.git\u001b[m\u001b[m               exam_structure.txt readme.md\r\n",
      "\u001b[34m..\u001b[m\u001b[m                 \u001b[34m.ipynb_checkpoints\u001b[m\u001b[m grade_exams.py     reporter.py\r\n",
      ".DS_Store          Untitled.ipynb     \u001b[34mgradebook\u001b[m\u001b[m          student_ids.txt\r\n",
      ".Rhistory          \u001b[34manonymizer\u001b[m\u001b[m         \u001b[34mprocess_midterm\u001b[m\u001b[m\r\n"
     ]
    }
   ],
   "source": [
    "!ls -a"
   ]
  },
  {
   "cell_type": "code",
   "execution_count": 160,
   "metadata": {},
   "outputs": [
    {
     "name": "stdout",
     "output_type": "stream",
     "text": [
      "{'name': 'Sarah Lancaster', 'perm_id': '0001', 'temp_id': '2013', 'rm': '1', 'email': 'sarah.lancaster@gmail.com', 'slack': 'itssarah'}\n",
      "{'name': 'Arthur Morgan', 'perm_id': '0002', 'temp_id': '1293', 'rm': '2', 'email': 'arthur.morgan@gmail.com', 'slack': 'AMorgan'}\n",
      "{'name': 'Lenny Truville', 'perm_id': '0003', 'temp_id': '1238', 'rm': '1', 'email': 'ltruville002@gmail.com', 'slack': ''}\n",
      "{'name': 'Jackie Trudeau', 'perm_id': '0004', 'temp_id': '2039', 'rm': '3', 'email': 'jackie.trudeau@gmail.com', 'slack': 'JackieTru'}\n",
      "1\n",
      "[{'name': 'Sarah Lancaster', 'perm_id': '0001', 'temp_id': '2013', 'rm': '1', 'email': 'sarah.lancaster@gmail.com', 'slack': 'itssarah'}, {'name': 'Arthur Morgan', 'perm_id': '0002', 'temp_id': '1293', 'rm': '2', 'email': 'arthur.morgan@gmail.com', 'slack': 'AMorgan'}, {'name': 'Lenny Truville', 'perm_id': '0003', 'temp_id': '1238', 'rm': '1', 'email': 'ltruville002@gmail.com', 'slack': ''}, {'name': 'Jackie Trudeau', 'perm_id': '0004', 'temp_id': '2039', 'rm': '3', 'email': 'jackie.trudeau@gmail.com', 'slack': 'JackieTru'}]\n"
     ]
    }
   ],
   "source": [
    "conv_df = pd.DataFrame(columns=[\"name\", \"perm_id\", \"temp_id\", \"rm\", \"email\", \"slack\"])\n",
    "\n",
    "\n",
    "with open('student_ids.txt') as students:\n",
    "    temp  = json.load(students)\n",
    "    a = 1\n",
    "    for p in temp:\n",
    "        print(p)\n",
    "        conv_df = conv_df.append(p, ignore_index = True)\n",
    "\n",
    "print(a)\n",
    "temp2 = json.loads(conv_df.to_json(orient='records'))\n",
    "print(temp2)"
   ]
  },
  {
   "cell_type": "code",
   "execution_count": null,
   "metadata": {},
   "outputs": [],
   "source": []
  },
  {
   "cell_type": "code",
   "execution_count": 161,
   "metadata": {},
   "outputs": [],
   "source": [
    "def json_format_preserver(df, json_filename, filepath = \"./\"):\n",
    "    '''\n",
    "    A shortcut way to make sure that the JSON file has its format preserved.\n",
    "    Takes:\n",
    "    df: a dataframe that wants to be converted to JSON format.\n",
    "    json_filename: the filename of the JSON file.\n",
    "    \n",
    "    Returns:\n",
    "    None\n",
    "    '''\n",
    "    \n",
    "    formatter = json.loads(df.to_json(orient='records'))\n",
    "    \n",
    "    with open(filepath+json_filename, 'w') as f:\n",
    "        json.dump(formatter, f, indent=4)"
   ]
  },
  {
   "cell_type": "code",
   "execution_count": 163,
   "metadata": {},
   "outputs": [],
   "source": [
    "json_format_preserver(df = conv_df, json_filename = 'abc.txt')"
   ]
  },
  {
   "cell_type": "code",
   "execution_count": 69,
   "metadata": {},
   "outputs": [
    {
     "name": "stderr",
     "output_type": "stream",
     "text": [
      "/opt/anaconda3/lib/python3.7/site-packages/ipykernel_launcher.py:30: SettingWithCopyWarning: \n",
      "A value is trying to be set on a copy of a slice from a DataFrame.\n",
      "Try using .loc[row_indexer,col_indexer] = value instead\n",
      "\n",
      "See the caveats in the documentation: http://pandas.pydata.org/pandas-docs/stable/user_guide/indexing.html#returning-a-view-versus-a-copy\n",
      "/opt/anaconda3/lib/python3.7/site-packages/ipykernel_launcher.py:33: SettingWithCopyWarning: \n",
      "A value is trying to be set on a copy of a slice from a DataFrame.\n",
      "Try using .loc[row_indexer,col_indexer] = value instead\n",
      "\n",
      "See the caveats in the documentation: http://pandas.pydata.org/pandas-docs/stable/user_guide/indexing.html#returning-a-view-versus-a-copy\n"
     ]
    }
   ],
   "source": [
    "# INITIAL CONDITIONS\n",
    "filepath = \"./test_exams/\"\n",
    "filetype = \".R\"\n",
    "exam_name = \"R_EDA\"\n",
    "output_filename = \"conv_test.csv\"\n",
    "decrypt = False\n",
    "student_filepath = \"student_ids.txt\"\n",
    "########\n",
    "\n",
    "# start create_key_df\n",
    "\n",
    "exam_desc = \"_\"+exam_name+filetype\n",
    "\n",
    "exams = [x for x in glob.glob(filepath+\"*\"+filetype) if (\"solution\" not in x.lower()) and \\\n",
    "                                               (\"anonomizer\" not in x.lower())]\n",
    "student_names = [label_processor(x) for x in exams]\n",
    "\n",
    "file_df = pd.DataFrame({\"orig_file\": exams, \"name\": student_names})\n",
    "\n",
    "# should be refactored into \"load_json_to_df\"\n",
    "linking_df = load_json_to_df(student_filepath)\n",
    "        \n",
    "left_overs = [student for student in file_df['name'].values if student not in linking_df['name'].values]\n",
    "\n",
    "\n",
    "masked_df = linking_df[linking_df['name'].isin(student_names)]\n",
    "masked_df['temp_id'] = random.sample(range(1000,9999), masked_df.shape[0])\n",
    "\n",
    "# make sure that users that did not submit an exam have a unique temp_id code.\n",
    "unsubmitted = linking_df[~linking_df['name'].isin(student_names)]\n",
    "unsubmitted['temp_id'] = '0000'\n",
    "\n",
    "# clean up a little bit\n",
    "linking_df = pd.concat([masked_df, unsubmitted], axis = 0)\n",
    "\n",
    "linking_df.sort_values('perm_id', inplace = True)\n",
    "\n",
    "json_format_preserver(linking_df, json_filename = student_filepath)\n",
    "\n",
    "# don't need everything moving on, just the name\n",
    "reduced_df = linking_df[['name', 'temp_id']]\n",
    "\n",
    "# only want to encrypt exams that have names we know!! (a better way to do this would be\n",
    "# if we could possible get the email tagged onto the file when we download this; so the user\n",
    "# account would be the thing we link on, not if they spelled their name correctly (reduce\n",
    "# user error)).\n",
    "file_df = pd.merge(reduced_df, file_df, how = 'inner', on='name')\n",
    "\n",
    "file_df['encrypt_file'] = [filepath+str(ID)+exam_desc for ID in file_df['temp_id'].values]\n",
    "\n",
    "file_df.to_csv(filepath+output_filename)\n",
    "\n",
    "return file_df[['orig_file', 'encrypt_file']]"
   ]
  },
  {
   "cell_type": "code",
   "execution_count": 9,
   "metadata": {},
   "outputs": [],
   "source": [
    "filepath = \"./R Exams/\"\n",
    "filetype = \".R\"\n",
    "exam_name = \"R_EDA\"\n",
    "output_filename = \"conv_test.csv\"\n",
    "decrypt = False\n",
    "student_filepath = \"student_ids.txt\"\n",
    "########\n",
    "\n",
    "# start create_key_df\n",
    "\n",
    "exam_desc = \"_\"+exam_name+filetype\n",
    "\n",
    "exams = [x for x in glob.glob(filepath+\"*\"+filetype) if (\"solution\" not in x.lower()) and \\\n",
    "                                               (\"anonomizer\" not in x.lower())]\n",
    "student_names = [label_processor(x) for x in exams]\n",
    "\n",
    "id_numbers = [\"000\" + str(idx) if idx < 10 else \"00\"+str(idx) for idx in range(len(student_names))]"
   ]
  },
  {
   "cell_type": "code",
   "execution_count": 12,
   "metadata": {},
   "outputs": [],
   "source": [
    "json_list = [{'name':name, 'perm_id':idx} for name, idx in zip(student_names, id_numbers)]\n",
    "\n",
    "with open('stu_info.txt', 'w') as f:\n",
    "    json.dump(json_list, f, indent=4)"
   ]
  },
  {
   "cell_type": "code",
   "execution_count": 4,
   "metadata": {},
   "outputs": [
    {
     "data": {
      "text/plain": [
       "['Test', 'Example']"
      ]
     },
     "execution_count": 4,
     "metadata": {},
     "output_type": "execute_result"
    }
   ],
   "source": [
    "re.findall(\"[A-Z][a-z]+\", \"TestExample\")"
   ]
  },
  {
   "cell_type": "code",
   "execution_count": 155,
   "metadata": {},
   "outputs": [
    {
     "name": "stdout",
     "output_type": "stream",
     "text": [
      "Creating zip file for TA Sam's exam(s).\n",
      "Writing exam:  ./test_exams/8732_R_EDA.R\n",
      "TA  Charlie does not have any exams to grade.\n",
      "Creating zip file for TA Wenjun's exam(s).\n",
      "Writing exam:  ./test_exams/6482_R_EDA.R\n",
      "Creating zip file for TA Simon's exam(s).\n",
      "Writing exam:  ./test_exams/2778_R_EDA.R\n"
     ]
    },
    {
     "data": {
      "text/html": [
       "<div>\n",
       "<style scoped>\n",
       "    .dataframe tbody tr th:only-of-type {\n",
       "        vertical-align: middle;\n",
       "    }\n",
       "\n",
       "    .dataframe tbody tr th {\n",
       "        vertical-align: top;\n",
       "    }\n",
       "\n",
       "    .dataframe thead th {\n",
       "        text-align: right;\n",
       "    }\n",
       "</style>\n",
       "<table border=\"1\" class=\"dataframe\">\n",
       "  <thead>\n",
       "    <tr style=\"text-align: right;\">\n",
       "      <th></th>\n",
       "      <th>email</th>\n",
       "      <th>exams_to_grade</th>\n",
       "    </tr>\n",
       "  </thead>\n",
       "  <tbody>\n",
       "    <tr>\n",
       "      <td>0</td>\n",
       "      <td>sam@nycdsa.com</td>\n",
       "      <td>./test_exams/8732_R_EDA.R</td>\n",
       "    </tr>\n",
       "    <tr>\n",
       "      <td>1</td>\n",
       "      <td>charlie@nycdsa.com</td>\n",
       "      <td>None</td>\n",
       "    </tr>\n",
       "    <tr>\n",
       "      <td>2</td>\n",
       "      <td>wenjun@nycdsa.com</td>\n",
       "      <td>./test_exams/6482_R_EDA.R</td>\n",
       "    </tr>\n",
       "    <tr>\n",
       "      <td>3</td>\n",
       "      <td>simon@nycdsa.com</td>\n",
       "      <td>./test_exams/2778_R_EDA.R</td>\n",
       "    </tr>\n",
       "  </tbody>\n",
       "</table>\n",
       "</div>"
      ],
      "text/plain": [
       "                email             exams_to_grade\n",
       "0      sam@nycdsa.com  ./test_exams/8732_R_EDA.R\n",
       "1  charlie@nycdsa.com                       None\n",
       "2   wenjun@nycdsa.com  ./test_exams/6482_R_EDA.R\n",
       "3    simon@nycdsa.com  ./test_exams/2778_R_EDA.R"
      ]
     },
     "execution_count": 155,
     "metadata": {},
     "output_type": "execute_result"
    }
   ],
   "source": [
    "distributor('TA_data.txt', file_df)"
   ]
  },
  {
   "cell_type": "code",
   "execution_count": 94,
   "metadata": {},
   "outputs": [],
   "source": [
    "names = ['Sam', 'Charlie', 'Wenjun', 'Simon']\n",
    "emails = ['sam@nycdsa.com', 'charlie@nycdsa.com', 'wenjun@nycdsa.com', 'simon@nycdsa.com']\n",
    "\n",
    "TA_json = []\n",
    "for name, email in zip(names, emails):\n",
    "    TA_json.append({'name': name, 'email': email})\n",
    "\n",
    "\n",
    "    \n",
    "with open('TA_data.txt', 'w') as f:\n",
    "    json.dump(TA_json, f, indent=4)"
   ]
  },
  {
   "cell_type": "code",
   "execution_count": 107,
   "metadata": {},
   "outputs": [
    {
     "data": {
      "text/plain": [
       "array(['./test_exams/6482_R_EDA.R', './test_exams/8732_R_EDA.R',\n",
       "       './test_exams/2778_R_EDA.R'], dtype=object)"
      ]
     },
     "execution_count": 107,
     "metadata": {},
     "output_type": "execute_result"
    }
   ],
   "source": [
    "exams_to_send = file_df['encrypt_file'].values\n",
    "np.random.shuffle(exams_to_send)\n",
    "exams_to_send"
   ]
  },
  {
   "cell_type": "code",
   "execution_count": 145,
   "metadata": {},
   "outputs": [],
   "source": [
    "import zipfile as zp"
   ]
  }
 ],
 "metadata": {
  "kernelspec": {
   "display_name": "Python 3",
   "language": "python",
   "name": "python3"
  },
  "language_info": {
   "codemirror_mode": {
    "name": "ipython",
    "version": 3
   },
   "file_extension": ".py",
   "mimetype": "text/x-python",
   "name": "python",
   "nbconvert_exporter": "python",
   "pygments_lexer": "ipython3",
   "version": "3.7.4"
  }
 },
 "nbformat": 4,
 "nbformat_minor": 2
}
