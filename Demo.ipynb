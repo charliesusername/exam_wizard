{
 "cells": [
  {
   "cell_type": "code",
   "execution_count": 35,
   "metadata": {},
   "outputs": [],
   "source": [
    "from examwiz_pkg.examwiz_pkg.gapi_app import grade_book as gb"
   ]
  },
  {
   "cell_type": "markdown",
   "metadata": {},
   "source": [
    "#### 1. Exam is Created\n",
    "Admin writes new exam (or is porting current exam into the system)"
   ]
  },
  {
   "cell_type": "code",
   "execution_count": 40,
   "metadata": {},
   "outputs": [
    {
     "name": "stdout",
     "output_type": "stream",
     "text": [
      "New Gradebook created. Access at: https://docs.google.com/spreadsheets/d/1ZuM7K8ygsAhBjlBr2FE3zyilRwJpT34XLId602OuETE/edit?usp=drivesdk\n"
     ]
    }
   ],
   "source": [
    "#exam2 = gb.create_grade_book('Python Midterm2', in_domain=True)\n",
    "## Generates new exam that is view only to SupStat Inc users, but can be edited by owner.\n",
    "exam = '1ZuM7K8ygsAhBjlBr2FE3zyilRwJpT34XLId602OuETE'\n",
    "print('New Gradebook created. Access at:', gb.get_link(exam))\n",
    "\n",
    "#Admin links gradebook to a google form and manually structures the questions (needs to be automated)\n",
    "form_link = 'https://docs.google.com/forms/d/e/1FAIpQLSex4HTuoBouCkkN0XrszdDiqzGVOZwocaTdQKd0zhNxot5SHA/viewform?usp=sf_link'"
   ]
  },
  {
   "cell_type": "markdown",
   "metadata": {},
   "source": [
    "#### 2. Exam is administered\n",
    "Cohort students take the exam and provide their solutions to the portal. This is downloadeded from the portal and run through an anonymizer"
   ]
  },
  {
   "cell_type": "code",
   "execution_count": 34,
   "metadata": {},
   "outputs": [
    {
     "name": "stdout",
     "output_type": "stream",
     "text": [
      "Original Student Submissions: ['MarioValdez_exam.R', 'MikeGriffin_Exam.R', 'Luana Stamato Caldeira.R', 'WillPonsby_RExam.R', 'PaulLee.R', 'TedDuncayExam.R', 'Bee_Kim_RExam2.R', 'Brian_Zhou_RExam.R', 'Aron_Berke_Exam_Code.R', 'Austin_Cheng_Exam.R', 'MikolajWilkExam.R', 'DrucilaLebfrevreExam.R', 'IraVillarMidTerm.R', 'Catherine_E_RExam.R', 'TomasNevinsExam.R']\n",
      "\n",
      "Anonymized Submissions: ['7722.R', '9218.R', '6362.R', '5523.R', '8390.R', '5355.R', '3277.R', '1307.R', '6400.R', '9599.R', '2713.R', '6799.R', '8088.R', '2244.R', '8107.R']\n",
      "\n",
      "Conversion Key:\n",
      "    Unnamed: 0                                                new  \\\n",
      "0           0  demo/demo files/raw_student_exams/../anon_stud...   \n",
      "1           1  demo/demo files/raw_student_exams/../anon_stud...   \n",
      "\n",
      "                                                orig  temp_id  \\\n",
      "0  demo/demo files/raw_student_exams/MarioValdez_...     8088   \n",
      "1  demo/demo files/raw_student_exams/MikeGriffin_...     8107   \n",
      "\n",
      "                         time  \n",
      "0  2020-01-06 14:10:22.997117  \n",
      "1  2020-01-06 14:10:22.997635  \n"
     ]
    }
   ],
   "source": [
    "from examwiz_pkg.examwiz_pkg.anon_app import anonymizer as an\n",
    "gb.fresh_start()\n",
    "raw_path = 'demo/demo files/raw_student_exams'\n",
    "print('Original Student Submissions:', an.list_files(raw_path))\n",
    "anon_path, key = an.make_anon(raw_path)\n",
    "print('\\nAnonymized Submissions:', an.list_files(anon_path))\n",
    "print('\\nConversion Key:\\n', an.read_key(raw_path+'/../conversion_key.csv').head(2))"
   ]
  },
  {
   "cell_type": "markdown",
   "metadata": {},
   "source": [
    "#### 3. Send Anonymized Exams to TAs\n",
    "Randomly split the examinations and send the files to the TAs along with the grading form."
   ]
  },
  {
   "cell_type": "code",
   "execution_count": 31,
   "metadata": {},
   "outputs": [
    {
     "name": "stdout",
     "output_type": "stream",
     "text": [
      "Message Sent!\n",
      "Message Sent!\n",
      "Message Sent!\n",
      "Message Sent!\n"
     ]
    }
   ],
   "source": [
    "from examwiz_pkg.examwiz_pkg.gapi_app import mailer as ml\n",
    "\n",
    "#Find Active TAs\n",
    "names, emails = ml.get_ta_emails('demo/demo files/TA_data.txt')\n",
    "num_tas = len(names)\n",
    "num_exams = len(an.list_files(anon_path))\n",
    "\n",
    "#Email TAs student files and grading form link\n",
    "for i in range(num_tas):\n",
    "    exams = an.list_files(anon_path)[(i*num_exams//num_tas):((i+1)*num_exams//num_tas)]\n",
    "    em = ml.create_attached_message(\n",
    "        sender='charles.cohen@nycdatascience.com',\n",
    "        to=emails[i],\n",
    "        subject=f'{names[i]}\\'s to grade: R Midterm',\n",
    "        msg=f\"\"\"Hi {names[i]},\n",
    "Here are the R Midterm student exams.\n",
    "Please submit your grade to them promptly.\n",
    "Here is the submission form link {form_link}\"\"\",\n",
    "        file_dir = 'demo/demo files/anon_student_exams',\n",
    "        filenames = exams\n",
    "    )\n",
    "    \n",
    "    ml.send_message(em)"
   ]
  },
  {
   "cell_type": "markdown",
   "metadata": {},
   "source": [
    "#### 4. Admin audits gradebook (manually)\n",
    "\n",
    "#### 5. Admin flags gradebook for reporting (manually)\n",
    "\n",
    "#### 6. Generates exam reports and emails to students. (automatic)"
   ]
  }
 ],
 "metadata": {
  "kernelspec": {
   "display_name": "Python 3",
   "language": "python",
   "name": "python3"
  },
  "language_info": {
   "codemirror_mode": {
    "name": "ipython",
    "version": 3
   },
   "file_extension": ".py",
   "mimetype": "text/x-python",
   "name": "python",
   "nbconvert_exporter": "python",
   "pygments_lexer": "ipython3",
   "version": "3.6.4"
  }
 },
 "nbformat": 4,
 "nbformat_minor": 2
}
